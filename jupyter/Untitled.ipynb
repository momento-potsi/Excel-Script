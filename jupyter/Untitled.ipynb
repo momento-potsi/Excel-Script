{
 "cells": [
  {
   "cell_type": "code",
   "execution_count": 1,
   "id": "374a33e3-1bcf-4c53-bd48-852dca163966",
   "metadata": {},
   "outputs": [
    {
     "name": "stdout",
     "output_type": "stream",
     "text": [
      "F37\n"
     ]
    },
    {
     "data": {
      "text/plain": [
       "47.38"
      ]
     },
     "execution_count": 1,
     "metadata": {},
     "output_type": "execute_result"
    }
   ],
   "source": [
    "from openpyxl import Workbook, load_workbook\n",
    "from openpyxl.styles import PatternFill, Border, Side, Alignment, Protection, Font\n",
    "\n",
    "\n",
    "DEFAULT_PATH = \"/media/tosin/7859-B0EF/Template.xlsx\"\n",
    "\n",
    "CELL = 'F37'\n",
    "\n",
    "wb = load_workbook(DEFAULT_PATH)\n",
    "\n",
    "ws = wb.active\n",
    "\n",
    "cell = ws[CELL]\n",
    "\n",
    "print(cell.coordinate)\n",
    "\n",
    "ws.row_dimensions[20].height\n",
    "  \n",
    "# set the width of the column \n",
    "ws.column_dimensions['A'].width\n"
   ]
  },
  {
   "cell_type": "code",
   "execution_count": 4,
   "id": "a9cd8633-3ddc-4f25-8040-b8224036b46b",
   "metadata": {},
   "outputs": [
    {
     "name": "stdout",
     "output_type": "stream",
     "text": [
      "('A', 4) 1 4\n"
     ]
    }
   ],
   "source": [
    "from openpyxl import Workbook, load_workbook\n",
    "DEFAULT_PATH = \"/media/tosin/7859-B0EF/Template.xlsx\"\n",
    "\n",
    "CELL = 'F37'\n",
    "\n",
    "wb = load_workbook(DEFAULT_PATH)\n",
    "\n",
    "from openpyxl.utils.cell import coordinate_from_string, column_index_from_string\n",
    "xy = coordinate_from_string('A4') # returns ('A',4)\n",
    "col = column_index_from_string(xy[0]) # returns 1\n",
    "print(xy, col, xy[1])"
   ]
  },
  {
   "cell_type": "code",
   "execution_count": 7,
   "id": "d0b02e79-70e0-484a-af4e-3e6c1a9d2dba",
   "metadata": {},
   "outputs": [
    {
     "ename": "ValueError",
     "evalue": "Cell A3 doesn't contain an image",
     "output_type": "error",
     "traceback": [
      "\u001b[0;31m---------------------------------------------------------------------------\u001b[0m",
      "\u001b[0;31mValueError\u001b[0m                                Traceback (most recent call last)",
      "Cell \u001b[0;32mIn[7], line 12\u001b[0m\n\u001b[1;32m      9\u001b[0m image_loader \u001b[38;5;241m=\u001b[39m SheetImageLoader(sheet)\n\u001b[1;32m     11\u001b[0m \u001b[38;5;66;03m# And get image from specified cell\u001b[39;00m\n\u001b[0;32m---> 12\u001b[0m image \u001b[38;5;241m=\u001b[39m \u001b[43mimage_loader\u001b[49m\u001b[38;5;241;43m.\u001b[39;49m\u001b[43mget\u001b[49m\u001b[43m(\u001b[49m\u001b[38;5;124;43m'\u001b[39;49m\u001b[38;5;124;43mA3\u001b[39;49m\u001b[38;5;124;43m'\u001b[39;49m\u001b[43m)\u001b[49m\n\u001b[1;32m     14\u001b[0m \u001b[38;5;66;03m# Image now is a Pillow image, so you can do the following\u001b[39;00m\n\u001b[1;32m     15\u001b[0m image\u001b[38;5;241m.\u001b[39mshow()\n",
      "File \u001b[0;32m~/.local/lib/python3.10/site-packages/openpyxl_image_loader/sheet_image_loader.py:30\u001b[0m, in \u001b[0;36mSheetImageLoader.get\u001b[0;34m(self, cell)\u001b[0m\n\u001b[1;32m     28\u001b[0m \u001b[38;5;250m\u001b[39m\u001b[38;5;124;03m\"\"\"Retrieves image data from a cell\"\"\"\u001b[39;00m\n\u001b[1;32m     29\u001b[0m \u001b[38;5;28;01mif\u001b[39;00m cell \u001b[38;5;129;01mnot\u001b[39;00m \u001b[38;5;129;01min\u001b[39;00m \u001b[38;5;28mself\u001b[39m\u001b[38;5;241m.\u001b[39m_images:\n\u001b[0;32m---> 30\u001b[0m     \u001b[38;5;28;01mraise\u001b[39;00m \u001b[38;5;167;01mValueError\u001b[39;00m(\u001b[38;5;124m\"\u001b[39m\u001b[38;5;124mCell \u001b[39m\u001b[38;5;132;01m{}\u001b[39;00m\u001b[38;5;124m doesn\u001b[39m\u001b[38;5;124m'\u001b[39m\u001b[38;5;124mt contain an image\u001b[39m\u001b[38;5;124m\"\u001b[39m\u001b[38;5;241m.\u001b[39mformat(cell))\n\u001b[1;32m     31\u001b[0m \u001b[38;5;28;01melse\u001b[39;00m:\n\u001b[1;32m     32\u001b[0m     image \u001b[38;5;241m=\u001b[39m io\u001b[38;5;241m.\u001b[39mBytesIO(\u001b[38;5;28mself\u001b[39m\u001b[38;5;241m.\u001b[39m_images[cell]())\n",
      "\u001b[0;31mValueError\u001b[0m: Cell A3 doesn't contain an image"
     ]
    }
   ],
   "source": [
    "from openpyxl import load_workbook\n",
    "from openpyxl_image_loader import SheetImageLoader\n",
    "\n",
    "# Load your workbook and sheet as you want, for example\n",
    "wb = load_workbook('/media/tosin/7859-B0EF/Template.xlsx')\n",
    "sheet = wb.active\n",
    "\n",
    "# Put your sheet in the loader\n",
    "image_loader = SheetImageLoader(sheet)\n",
    "\n",
    "# And get image from specified cell\n",
    "image = image_loader.get('A3')\n",
    "\n",
    "# Image now is a Pillow image, so you can do the following\n",
    "image.show()\n",
    "\n",
    "# Ask if there's an image in a cell\n",
    "if image_loader.image_in('A4'):\n",
    "    print(\"Got it!\")\n"
   ]
  }
 ],
 "metadata": {
  "kernelspec": {
   "display_name": "Python 3 (ipykernel)",
   "language": "python",
   "name": "python3"
  },
  "language_info": {
   "codemirror_mode": {
    "name": "ipython",
    "version": 3
   },
   "file_extension": ".py",
   "mimetype": "text/x-python",
   "name": "python",
   "nbconvert_exporter": "python",
   "pygments_lexer": "ipython3",
   "version": "3.10.12"
  }
 },
 "nbformat": 4,
 "nbformat_minor": 5
}
